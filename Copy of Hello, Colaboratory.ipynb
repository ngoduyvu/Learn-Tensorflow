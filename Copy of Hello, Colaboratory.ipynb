{
  "nbformat": 4,
  "nbformat_minor": 0,
  "metadata": {
    "colab": {
      "name": "Copy of Hello, Colaboratory",
      "version": "0.3.2",
      "views": {},
      "default_view": {},
      "provenance": [
        {
          "file_id": "/v2/external/notebooks/welcome.ipynb",
          "timestamp": 1514337559676
        }
      ],
      "collapsed_sections": [],
      "toc_visible": true
    },
    "kernelspec": {
      "display_name": "Python 3",
      "name": "python3"
    }
  },
  "cells": [
    {
      "metadata": {
        "id": "9J7p406abzgl",
        "colab_type": "text"
      },
      "source": [
        "## Welcome to Colaboratory!\n",
        "\n",
        "Colaboratory is a Google research project created to help disseminate machine learning education and research. It's a Jupyter notebook environment that requires no setup to use and runs entirely in the cloud.\n",
        "\n",
        "Colaboratory notebooks are stored in [Google Drive](https://drive.google.com) and can be shared just as you would with Google Docs or Sheets. Colaboratory is free to use.\n",
        "\n",
        "For more information, see our [FAQ](https://research.google.com/colaboratory/faq.html)."
      ],
      "cell_type": "markdown"
    },
    {
      "metadata": {
        "id": "8iU2gnJFItM1",
        "colab_type": "text"
      },
      "source": [
        "## Python 3 (NEW!)\n",
        "\n",
        "Colab now supports both Python2 and Python3 for code execution. \n",
        "\n",
        "* When creating a new notebook, you'll have the choice between Python 2 and Python 3.\n",
        "* You can also change the language associated with a notebook; this information will be written into the `.ipynb` file itself, and thus will be preserved for future sessions."
      ],
      "cell_type": "markdown"
    },
    {
      "metadata": {
        "id": "tJ4jlBRKa2LX",
        "colab_type": "text"
      },
      "source": [
        "The **link to the tuturial guild**\n",
        "https://medium.com/@howal/neural-networks-with-google-colaboratory-artificial-intelligence-getting-started-713b5eb07f14"
      ],
      "cell_type": "markdown"
    },
    {
      "metadata": {
        "id": "na0VvPXmYKp1",
        "colab_type": "code",
        "colab": {
          "autoexec": {
            "startup": false,
            "wait_interval": 0
          },
          "output_extras": [
            {
              "item_id": 1
            }
          ],
          "base_uri": "https://localhost:8080/",
          "height": 34
        },
        "outputId": "bfb03089-5f89-4c41-9e30-5d9e526989b0",
        "executionInfo": {
          "status": "ok",
          "timestamp": 1514339591305,
          "user_tz": -600,
          "elapsed": 712,
          "user": {
            "displayName": "Duy Vu Ngo",
            "photoUrl": "//lh4.googleusercontent.com/-Fik-Zyr0TKs/AAAAAAAAAAI/AAAAAAAAAGc/meQpc3nevFQ/s50-c-k-no/photo.jpg",
            "userId": "117300129906629207639"
          }
        }
      },
      "source": [
        "import sys\n",
        "print('Hello, Colaboratory from Python {}!'.format(sys.version_info[0]))"
      ],
      "cell_type": "code",
      "execution_count": 1,
      "outputs": [
        {
          "output_type": "stream",
          "text": [
            "Hello, Colaboratory from Python 3!\n"
          ],
          "name": "stdout"
        }
      ]
    },
    {
      "metadata": {
        "id": "S9GW-n-oYWIj",
        "colab_type": "text"
      },
      "source": [
        "Colaboratory allows you to execute TensorFlow code in your browser with a single click. The example below adds two matrices.\n",
        "\n",
        "$\\begin{bmatrix}\n",
        "  1. & 1. & 1. \\\\\n",
        "  1. & 1. & 1. \\\\\n",
        "\\end{bmatrix} +\n",
        "\\begin{bmatrix}\n",
        "  1. & 2. & 3. \\\\\n",
        "  4. & 5. & 6. \\\\\n",
        "\\end{bmatrix} =\n",
        "\\begin{bmatrix}\n",
        "  2. & 3. & 4. \\\\\n",
        "  5. & 6. & 7. \\\\\n",
        "\\end{bmatrix}$"
      ],
      "cell_type": "markdown"
    },
    {
      "metadata": {
        "id": "mwdQ1INEZKkb",
        "colab_type": "code",
        "colab": {
          "autoexec": {
            "startup": false,
            "wait_interval": 0
          },
          "output_extras": [
            {
              "item_id": 1
            }
          ],
          "base_uri": "https://localhost:8080/",
          "height": 52
        },
        "outputId": "5e3b47cd-38b6-46ff-bcf9-49f89b71908e",
        "executionInfo": {
          "status": "ok",
          "timestamp": 1514339597419,
          "user_tz": -600,
          "elapsed": 2247,
          "user": {
            "displayName": "Duy Vu Ngo",
            "photoUrl": "//lh4.googleusercontent.com/-Fik-Zyr0TKs/AAAAAAAAAAI/AAAAAAAAAGc/meQpc3nevFQ/s50-c-k-no/photo.jpg",
            "userId": "117300129906629207639"
          }
        }
      },
      "source": [
        "import tensorflow as tf\n",
        "import numpy as np\n",
        "\n",
        "with tf.Session():\n",
        "  input1 = tf.constant(1.0, shape=[2, 3])\n",
        "  input2 = tf.constant(np.reshape(np.arange(1.0, 7.0, dtype=np.float32), (2, 3)))\n",
        "  output = tf.add(input1, input2)\n",
        "  result = output.eval()\n",
        "\n",
        "result"
      ],
      "cell_type": "code",
      "execution_count": 2,
      "outputs": [
        {
          "output_type": "execute_result",
          "data": {
            "text/plain": [
              "array([[ 2.,  3.,  4.],\n",
              "       [ 5.,  6.,  7.]], dtype=float32)"
            ]
          },
          "metadata": {
            "tags": []
          },
          "execution_count": 2
        }
      ]
    },
    {
      "metadata": {
        "id": "rYs5mx2JZkmy",
        "colab_type": "text"
      },
      "source": [
        "Colaboratory includes widely used libraries like [matplotlib](https://matplotlib.org/), simplifying visualization."
      ],
      "cell_type": "markdown"
    },
    {
      "metadata": {
        "id": "xqrc5C-IaA5J",
        "colab_type": "code",
        "colab": {
          "autoexec": {
            "startup": false,
            "wait_interval": 0
          },
          "output_extras": [
            {
              "item_id": 1
            }
          ],
          "base_uri": "https://localhost:8080/",
          "height": 348
        },
        "outputId": "035e9e6b-c4c9-42da-f69b-02b6a5c57a16",
        "executionInfo": {
          "status": "ok",
          "timestamp": 1514339600086,
          "user_tz": -600,
          "elapsed": 880,
          "user": {
            "displayName": "Duy Vu Ngo",
            "photoUrl": "//lh4.googleusercontent.com/-Fik-Zyr0TKs/AAAAAAAAAAI/AAAAAAAAAGc/meQpc3nevFQ/s50-c-k-no/photo.jpg",
            "userId": "117300129906629207639"
          }
        }
      },
      "source": [
        "import matplotlib.pyplot as plt\n",
        "import numpy as np\n",
        "\n",
        "x = np.arange(20)\n",
        "y = [x_i + np.random.randn(1) for x_i in x]\n",
        "a, b = np.polyfit(x, y, 1)\n",
        "_ = plt.plot(x, y, 'o', np.arange(20), a*np.arange(20)+b, '-')"
      ],
      "cell_type": "code",
      "execution_count": 3,
      "outputs": [
        {
          "output_type": "display_data",
          "data": {
            "image/png": "[encoded data removed]",
            "text/plain": [
              "<matplotlib.figure.Figure at 0x7f6a466b2048>"
            ]
          },
          "metadata": {
            "tags": []
          }
        }
      ]
    },
    {
      "metadata": {
        "id": "AN_LRQ9NkOjs",
        "colab_type": "text"
      },
      "source": [
        "Want to use a new library?  `pip install` it. For recipes to import commonly used libraries, refer to the [importing libraries example notebook](/notebook#fileId=/v2/external/notebooks/snippets/importing_libraries.ipynb)"
      ],
      "cell_type": "markdown"
    },
    {
      "metadata": {
        "id": "FlQq0SUepQbd",
        "colab_type": "code",
        "colab": {
          "autoexec": {
            "startup": false,
            "wait_interval": 0
          },
          "output_extras": [
            {
              "item_id": 1
            },
            {
              "item_id": 2
            }
          ],
          "base_uri": "https://localhost:8080/",
          "height": 348
        },
        "outputId": "f611c8c3-9fc2-4e20-9f0e-ca32fc26a762",
        "executionInfo": {
          "status": "ok",
          "timestamp": 1514339606026,
          "user_tz": -600,
          "elapsed": 3202,
          "user": {
            "displayName": "Duy Vu Ngo",
            "photoUrl": "//lh4.googleusercontent.com/-Fik-Zyr0TKs/AAAAAAAAAAI/AAAAAAAAAGc/meQpc3nevFQ/s50-c-k-no/photo.jpg",
            "userId": "117300129906629207639"
          }
        }
      },
      "source": [
        "# Only needs to be run once at the top of the notebook.\n",
        "!pip install -q matplotlib-venn\n",
        "\n",
        "# Now the newly-installed library can be used anywhere else in the notebook.\n",
        "from matplotlib_venn import venn2\n",
        "venn2(subsets = (3, 2, 1))"
      ],
      "cell_type": "code",
      "execution_count": 4,
      "outputs": [
        {
          "output_type": "execute_result",
          "data": {
            "text/plain": [
              "<matplotlib_venn._common.VennDiagram at 0x7f6a380f1668>"
            ]
          },
          "metadata": {
            "tags": []
          },
          "execution_count": 4
        },
        {
          "output_type": "display_data",
          "data": {
            "image/png": "[encoded data removed]",
            "text/plain": [
              "<matplotlib.figure.Figure at 0x7f6a3994d2b0>"
            ]
          },
          "metadata": {
            "tags": []
          }
        }
      ]
    },
    {
      "metadata": {
        "id": "-Rh3-Vt9Nev9",
        "colab_type": "text"
      },
      "source": [
        "## For more information:\n",
        "- [Overview of Colaboratory](/notebook#fileId=/v2/external/notebooks/basic_features_overview.ipynb)\n",
        "- [Importing libraries and installing dependencies](/notebook#fileId=/v2/external/notebooks/snippets/importing_libraries.ipynb)\n",
        "- [Markdown guide](/notebook#fileId=/v2/external/notebooks/markdown_guide.ipynb)\n",
        "- [Charts](/notebook#fileId=/v2/external/notebooks/charts.ipynb)\n",
        "- [Loading and saving data: local files, Drive, Sheets, Google Cloud Storage](/notebook#fileId=/v2/external/notebooks/io.ipynb)\n",
        "- [Example Google Cloud BigQuery notebook](/notebook#fileId=/v2/external/notebooks/bigquery.ipynb)\n"
      ],
      "cell_type": "markdown"
    },
    {
      "metadata": {
        "id": "R0WT4q_HQr0s",
        "colab_type": "code",
        "colab": {
          "autoexec": {
            "startup": false,
            "wait_interval": 0
          }
        }
      },
      "source": [
        "!pip install -q keras"
      ],
      "cell_type": "code",
      "execution_count": 0,
      "outputs": []
    },
    {
      "metadata": {
        "id": "c18KCHotQu42",
        "colab_type": "code",
        "colab": {
          "autoexec": {
            "startup": false,
            "wait_interval": 0
          },
          "output_extras": [
            {
              "item_id": 1
            }
          ],
          "resources": {
            "http://localhost:8080/nbextensions/google.colab/files.js": {
              "data": "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",
              "ok": true,
              "headers": [
                [
                  "content-type",
                  "application/javascript"
                ]
              ],
              "status": 200,
              "status_text": ""
            }
          },
          "base_uri": "https://localhost:8080/",
          "height": 56
        },
        "outputId": "7842c693-f7f2-43c1-e677-1c6c72080bd7",
        "executionInfo": {
          "status": "ok",
          "timestamp": 1514339678610,
          "user_tz": -600,
          "elapsed": 11459,
          "user": {
            "displayName": "Duy Vu Ngo",
            "photoUrl": "//lh4.googleusercontent.com/-Fik-Zyr0TKs/AAAAAAAAAAI/AAAAAAAAAGc/meQpc3nevFQ/s50-c-k-no/photo.jpg",
            "userId": "117300129906629207639"
          }
        }
      },
      "source": [
        "from google.colab import files\n",
        "uploaded = files.upload()\n",
        "\n",
        "#Save uploaded file on the Virtual Machine's \n",
        "#Thanks to user3800642 from StackOverflow \n",
        "\n",
        "with open(\"breast_cancer.csv\", 'wb') as f:\n",
        "    #f.write(uploaded[uploaded.keys()[0]])\n",
        "    f.write(uploaded[list(uploaded.keys())[0]])"
      ],
      "cell_type": "code",
      "execution_count": 8,
      "outputs": [
        {
          "output_type": "display_data",
          "data": {
            "text/html": [
              "\n",
              "     <input type=\"file\" id=\"files-91fea982-8af7-4a7f-8b81-ba64f6460d6b\" name=\"files[]\" multiple disabled />\n",
              "     <output id=\"result-91fea982-8af7-4a7f-8b81-ba64f6460d6b\">\n",
              "      Upload widget is only available when the cell has been executed in the\n",
              "      current browser session. Please rerun this cell to enable.\n",
              "      </output>\n",
              "      <script src=\"/nbextensions/google.colab/files.js\"</script> "
            ],
            "text/plain": [
              "<IPython.core.display.HTML object>"
            ]
          },
          "metadata": {
            "tags": []
          }
        }
      ]
    },
    {
      "metadata": {
        "id": "ZOROiyKSm4xn",
        "colab_type": "code",
        "colab": {
          "autoexec": {
            "startup": false,
            "wait_interval": 0
          },
          "output_extras": [
            {
              "item_id": 2
            }
          ],
          "base_uri": "https://localhost:8080/",
          "height": 228
        },
        "outputId": "ca168bca-ca94-41ea-db68-e07c3b436ea5",
        "executionInfo": {
          "status": "ok",
          "timestamp": 1514339682224,
          "user_tz": -600,
          "elapsed": 2675,
          "user": {
            "displayName": "Duy Vu Ngo",
            "photoUrl": "//lh4.googleusercontent.com/-Fik-Zyr0TKs/AAAAAAAAAAI/AAAAAAAAAGc/meQpc3nevFQ/s50-c-k-no/photo.jpg",
            "userId": "117300129906629207639"
          }
        }
      },
      "source": [
        "!ls\n",
        "!head breast_cancer.csv"
      ],
      "cell_type": "code",
      "execution_count": 9,
      "outputs": [
        {
          "output_type": "stream",
          "text": [
            "breast_cancer.csv  datalab\n",
            "\"id\",\"diagnosis\",\"radius_mean\",\"texture_mean\",\"perimeter_mean\",\"area_mean\",\"smoothness_mean\",\"compactness_mean\",\"concavity_mean\",\"concave points_mean\",\"symmetry_mean\",\"fractal_dimension_mean\",\"radius_se\",\"texture_se\",\"perimeter_se\",\"area_se\",\"smoothness_se\",\"compactness_se\",\"concavity_se\",\"concave points_se\",\"symmetry_se\",\"fractal_dimension_se\",\"radius_worst\",\"texture_worst\",\"perimeter_worst\",\"area_worst\",\"smoothness_worst\",\"compactness_worst\",\"concavity_worst\",\"concave points_worst\",\"symmetry_worst\",\"fractal_dimension_worst\",\n",
            "842302,M,17.99,10.38,122.8,1001,0.1184,0.2776,0.3001,0.1471,0.2419,0.07871,1.095,0.9053,8.589,153.4,0.006399,0.04904,0.05373,0.01587,0.03003,0.006193,25.38,17.33,184.6,2019,0.1622,0.6656,0.7119,0.2654,0.4601,0.1189\n",
            "842517,M,20.57,17.77,132.9,1326,0.08474,0.07864,0.0869,0.07017,0.1812,0.05667,0.5435,0.7339,3.398,74.08,0.005225,0.01308,0.0186,0.0134,0.01389,0.003532,24.99,23.41,158.8,1956,0.1238,0.1866,0.2416,0.186,0.275,0.08902\n",
            "84300903,M,19.69,21.25,130,1203,0.1096,0.1599,0.1974,0.1279,0.2069,0.05999,0.7456,0.7869,4.585,94.03,0.00615,0.04006,0.03832,0.02058,0.0225,0.004571,23.57,25.53,152.5,1709,0.1444,0.4245,0.4504,0.243,0.3613,0.08758\n",
            "84348301,M,11.42,20.38,77.58,386.1,0.1425,0.2839,0.2414,0.1052,0.2597,0.09744,0.4956,1.156,3.445,27.23,0.00911,0.07458,0.05661,0.01867,0.05963,0.009208,14.91,26.5,98.87,567.7,0.2098,0.8663,0.6869,0.2575,0.6638,0.173\n",
            "84358402,M,20.29,14.34,135.1,1297,0.1003,0.1328,0.198,0.1043,0.1809,0.05883,0.7572,0.7813,5.438,94.44,0.01149,0.02461,0.05688,0.01885,0.01756,0.005115,22.54,16.67,152.2,1575,0.1374,0.205,0.4,0.1625,0.2364,0.07678\n",
            "843786,M,12.45,15.7,82.57,477.1,0.1278,0.17,0.1578,0.08089,0.2087,0.07613,0.3345,0.8902,2.217,27.19,0.00751,0.03345,0.03672,0.01137,0.02165,0.005082,15.47,23.75,103.4,741.6,0.1791,0.5249,0.5355,0.1741,0.3985,0.1244\n",
            "844359,M,18.25,19.98,119.6,1040,0.09463,0.109,0.1127,0.074,0.1794,0.05742,0.4467,0.7732,3.18,53.91,0.004314,0.01382,0.02254,0.01039,0.01369,0.002179,22.88,27.66,153.2,1606,0.1442,0.2576,0.3784,0.1932,0.3063,0.08368\n",
            "84458202,M,13.71,20.83,90.2,577.9,0.1189,0.1645,0.09366,0.05985,0.2196,0.07451,0.5835,1.377,3.856,50.96,0.008805,0.03029,0.02488,0.01448,0.01486,0.005412,17.06,28.14,110.6,897,0.1654,0.3682,0.2678,0.1556,0.3196,0.1151\n",
            "844981,M,13,21.82,87.5,519.8,0.1273,0.1932,0.1859,0.09353,0.235,0.07389,0.3063,1.002,2.406,24.32,0.005731,0.03502,0.03553,0.01226,0.02143,0.003749,15.49,30.73,106.2,739.3,0.1703,0.5401,0.539,0.206,0.4378,0.1072\n"
          ],
          "name": "stdout"
        }
      ]
    },
    {
      "metadata": {
        "id": "MAKMcugyRd1o",
        "colab_type": "code",
        "colab": {
          "autoexec": {
            "startup": false,
            "wait_interval": 0
          },
          "output_extras": [
            {
              "item_id": 1
            }
          ],
          "base_uri": "https://localhost:8080/",
          "height": 268
        },
        "outputId": "0acca6ba-6f8f-46d0-bba8-5dc3210b5f73",
        "executionInfo": {
          "status": "ok",
          "timestamp": 1514339685102,
          "user_tz": -600,
          "elapsed": 849,
          "user": {
            "displayName": "Duy Vu Ngo",
            "photoUrl": "//lh4.googleusercontent.com/-Fik-Zyr0TKs/AAAAAAAAAAI/AAAAAAAAAGc/meQpc3nevFQ/s50-c-k-no/photo.jpg",
            "userId": "117300129906629207639"
          }
        }
      },
      "source": [
        "import numpy as np\n",
        "import pandas as pd\n",
        "\n",
        "#Importing dataset\n",
        "dataset = pd.read_csv('breast_cancer.csv',sep=',')\n",
        "\n",
        "#Check the first 5 rows of the dataset. \n",
        "dataset.head(5)"
      ],
      "cell_type": "code",
      "execution_count": 10,
      "outputs": [
        {
          "output_type": "execute_result",
          "data": {
            "text/html": [
              "<div>\n",
              "<style>\n",
              "    .dataframe thead tr:only-child th {\n",
              "        text-align: right;\n",
              "    }\n",
              "\n",
              "    .dataframe thead th {\n",
              "        text-align: left;\n",
              "    }\n",
              "\n",
              "    .dataframe tbody tr th {\n",
              "        vertical-align: top;\n",
              "    }\n",
              "</style>\n",
              "<table border=\"1\" class=\"dataframe\">\n",
              "  <thead>\n",
              "    <tr style=\"text-align: right;\">\n",
              "      <th></th>\n",
              "      <th>id</th>\n",
              "      <th>diagnosis</th>\n",
              "      <th>radius_mean</th>\n",
              "      <th>texture_mean</th>\n",
              "      <th>perimeter_mean</th>\n",
              "      <th>area_mean</th>\n",
              "      <th>smoothness_mean</th>\n",
              "      <th>compactness_mean</th>\n",
              "      <th>concavity_mean</th>\n",
              "      <th>concave points_mean</th>\n",
              "      <th>...</th>\n",
              "      <th>texture_worst</th>\n",
              "      <th>perimeter_worst</th>\n",
              "      <th>area_worst</th>\n",
              "      <th>smoothness_worst</th>\n",
              "      <th>compactness_worst</th>\n",
              "      <th>concavity_worst</th>\n",
              "      <th>concave points_worst</th>\n",
              "      <th>symmetry_worst</th>\n",
              "      <th>fractal_dimension_worst</th>\n",
              "      <th>Unnamed: 32</th>\n",
              "    </tr>\n",
              "  </thead>\n",
              "  <tbody>\n",
              "    <tr>\n",
              "      <th>0</th>\n",
              "      <td>842302</td>\n",
              "      <td>M</td>\n",
              "      <td>17.99</td>\n",
              "      <td>10.38</td>\n",
              "      <td>122.80</td>\n",
              "      <td>1001.0</td>\n",
              "      <td>0.11840</td>\n",
              "      <td>0.27760</td>\n",
              "      <td>0.3001</td>\n",
              "      <td>0.14710</td>\n",
              "      <td>...</td>\n",
              "      <td>17.33</td>\n",
              "      <td>184.60</td>\n",
              "      <td>2019.0</td>\n",
              "      <td>0.1622</td>\n",
              "      <td>0.6656</td>\n",
              "      <td>0.7119</td>\n",
              "      <td>0.2654</td>\n",
              "      <td>0.4601</td>\n",
              "      <td>0.11890</td>\n",
              "      <td>NaN</td>\n",
              "    </tr>\n",
              "    <tr>\n",
              "      <th>1</th>\n",
              "      <td>842517</td>\n",
              "      <td>M</td>\n",
              "      <td>20.57</td>\n",
              "      <td>17.77</td>\n",
              "      <td>132.90</td>\n",
              "      <td>1326.0</td>\n",
              "      <td>0.08474</td>\n",
              "      <td>0.07864</td>\n",
              "      <td>0.0869</td>\n",
              "      <td>0.07017</td>\n",
              "      <td>...</td>\n",
              "      <td>23.41</td>\n",
              "      <td>158.80</td>\n",
              "      <td>1956.0</td>\n",
              "      <td>0.1238</td>\n",
              "      <td>0.1866</td>\n",
              "      <td>0.2416</td>\n",
              "      <td>0.1860</td>\n",
              "      <td>0.2750</td>\n",
              "      <td>0.08902</td>\n",
              "      <td>NaN</td>\n",
              "    </tr>\n",
              "    <tr>\n",
              "      <th>2</th>\n",
              "      <td>84300903</td>\n",
              "      <td>M</td>\n",
              "      <td>19.69</td>\n",
              "      <td>21.25</td>\n",
              "      <td>130.00</td>\n",
              "      <td>1203.0</td>\n",
              "      <td>0.10960</td>\n",
              "      <td>0.15990</td>\n",
              "      <td>0.1974</td>\n",
              "      <td>0.12790</td>\n",
              "      <td>...</td>\n",
              "      <td>25.53</td>\n",
              "      <td>152.50</td>\n",
              "      <td>1709.0</td>\n",
              "      <td>0.1444</td>\n",
              "      <td>0.4245</td>\n",
              "      <td>0.4504</td>\n",
              "      <td>0.2430</td>\n",
              "      <td>0.3613</td>\n",
              "      <td>0.08758</td>\n",
              "      <td>NaN</td>\n",
              "    </tr>\n",
              "    <tr>\n",
              "      <th>3</th>\n",
              "      <td>84348301</td>\n",
              "      <td>M</td>\n",
              "      <td>11.42</td>\n",
              "      <td>20.38</td>\n",
              "      <td>77.58</td>\n",
              "      <td>386.1</td>\n",
              "      <td>0.14250</td>\n",
              "      <td>0.28390</td>\n",
              "      <td>0.2414</td>\n",
              "      <td>0.10520</td>\n",
              "      <td>...</td>\n",
              "      <td>26.50</td>\n",
              "      <td>98.87</td>\n",
              "      <td>567.7</td>\n",
              "      <td>0.2098</td>\n",
              "      <td>0.8663</td>\n",
              "      <td>0.6869</td>\n",
              "      <td>0.2575</td>\n",
              "      <td>0.6638</td>\n",
              "      <td>0.17300</td>\n",
              "      <td>NaN</td>\n",
              "    </tr>\n",
              "    <tr>\n",
              "      <th>4</th>\n",
              "      <td>84358402</td>\n",
              "      <td>M</td>\n",
              "      <td>20.29</td>\n",
              "      <td>14.34</td>\n",
              "      <td>135.10</td>\n",
              "      <td>1297.0</td>\n",
              "      <td>0.10030</td>\n",
              "      <td>0.13280</td>\n",
              "      <td>0.1980</td>\n",
              "      <td>0.10430</td>\n",
              "      <td>...</td>\n",
              "      <td>16.67</td>\n",
              "      <td>152.20</td>\n",
              "      <td>1575.0</td>\n",
              "      <td>0.1374</td>\n",
              "      <td>0.2050</td>\n",
              "      <td>0.4000</td>\n",
              "      <td>0.1625</td>\n",
              "      <td>0.2364</td>\n",
              "      <td>0.07678</td>\n",
              "      <td>NaN</td>\n",
              "    </tr>\n",
              "  </tbody>\n",
              "</table>\n",
              "<p>5 rows × 33 columns</p>\n",
              "</div>"
            ],
            "text/plain": [
              "         id diagnosis  radius_mean  texture_mean  perimeter_mean  area_mean  \\\n",
              "0    842302         M        17.99         10.38          122.80     1001.0   \n",
              "1    842517         M        20.57         17.77          132.90     1326.0   \n",
              "2  84300903         M        19.69         21.25          130.00     1203.0   \n",
              "3  84348301         M        11.42         20.38           77.58      386.1   \n",
              "4  84358402         M        20.29         14.34          135.10     1297.0   \n",
              "\n",
              "   smoothness_mean  compactness_mean  concavity_mean  concave points_mean  \\\n",
              "0          0.11840           0.27760          0.3001              0.14710   \n",
              "1          0.08474           0.07864          0.0869              0.07017   \n",
              "2          0.10960           0.15990          0.1974              0.12790   \n",
              "3          0.14250           0.28390          0.2414              0.10520   \n",
              "4          0.10030           0.13280          0.1980              0.10430   \n",
              "\n",
              "      ...       texture_worst  perimeter_worst  area_worst  smoothness_worst  \\\n",
              "0     ...               17.33           184.60      2019.0            0.1622   \n",
              "1     ...               23.41           158.80      1956.0            0.1238   \n",
              "2     ...               25.53           152.50      1709.0            0.1444   \n",
              "3     ...               26.50            98.87       567.7            0.2098   \n",
              "4     ...               16.67           152.20      1575.0            0.1374   \n",
              "\n",
              "   compactness_worst  concavity_worst  concave points_worst  symmetry_worst  \\\n",
              "0             0.6656           0.7119                0.2654          0.4601   \n",
              "1             0.1866           0.2416                0.1860          0.2750   \n",
              "2             0.4245           0.4504                0.2430          0.3613   \n",
              "3             0.8663           0.6869                0.2575          0.6638   \n",
              "4             0.2050           0.4000                0.1625          0.2364   \n",
              "\n",
              "   fractal_dimension_worst  Unnamed: 32  \n",
              "0                  0.11890          NaN  \n",
              "1                  0.08902          NaN  \n",
              "2                  0.08758          NaN  \n",
              "3                  0.17300          NaN  \n",
              "4                  0.07678          NaN  \n",
              "\n",
              "[5 rows x 33 columns]"
            ]
          },
          "metadata": {
            "tags": []
          },
          "execution_count": 10
        }
      ]
    },
    {
      "metadata": {
        "id": "I3glCpdUQaia",
        "colab_type": "code",
        "colab": {
          "autoexec": {
            "startup": false,
            "wait_interval": 0
          }
        }
      },
      "source": [
        "X = dataset.iloc[:, 2:32].values\n",
        "y = dataset.iloc[:, 1].values"
      ],
      "cell_type": "code",
      "execution_count": 0,
      "outputs": []
    },
    {
      "metadata": {
        "id": "Y6xxgjzaQzX0",
        "colab_type": "code",
        "colab": {
          "autoexec": {
            "startup": false,
            "wait_interval": 0
          }
        }
      },
      "source": [
        "#Encoding Categorical Data\n",
        "from sklearn.preprocessing import LabelEncoder\n",
        "labelencoder = LabelEncoder()\n",
        "\n",
        "y = labelencoder.fit_transform(y)"
      ],
      "cell_type": "code",
      "execution_count": 0,
      "outputs": []
    },
    {
      "metadata": {
        "id": "wHU2JaWMTGdu",
        "colab_type": "code",
        "colab": {
          "autoexec": {
            "startup": false,
            "wait_interval": 0
          }
        }
      },
      "source": [
        "from sklearn.model_selection import train_test_split\n",
        "X_train, X_test, y_train, y_test = train_test_split(X, y, test_size = 0.2, random_state = 42)"
      ],
      "cell_type": "code",
      "execution_count": 0,
      "outputs": []
    },
    {
      "metadata": {
        "id": "PCdY3sk-Wc7b",
        "colab_type": "code",
        "colab": {
          "autoexec": {
            "startup": false,
            "wait_interval": 0
          },
          "output_extras": [
            {
              "item_id": 1
            }
          ],
          "base_uri": "https://localhost:8080/",
          "height": 173
        },
        "outputId": "2ff321b4-66a8-472e-804b-bc43686f18d3",
        "executionInfo": {
          "status": "ok",
          "timestamp": 1514339694368,
          "user_tz": -600,
          "elapsed": 2988,
          "user": {
            "displayName": "Duy Vu Ngo",
            "photoUrl": "//lh4.googleusercontent.com/-Fik-Zyr0TKs/AAAAAAAAAAI/AAAAAAAAAGc/meQpc3nevFQ/s50-c-k-no/photo.jpg",
            "userId": "117300129906629207639"
          }
        }
      },
      "source": [
        "!pip show tensorflow"
      ],
      "cell_type": "code",
      "execution_count": 14,
      "outputs": [
        {
          "output_type": "stream",
          "text": [
            "Name: tensorflow\r\n",
            "Version: 1.2.0\r\n",
            "Summary: TensorFlow helps the tensors flow\r\n",
            "Home-page: http://tensorflow.org/\r\n",
            "Author: Google Inc.\r\n",
            "Author-email: opensource@google.com\r\n",
            "License: Apache 2.0\r\n",
            "Location: /usr/local/lib/python3.6/dist-packages\r\n",
            "Requires: wheel, html5lib, backports.weakref, werkzeug, markdown, protobuf, bleach, numpy, six\r\n"
          ],
          "name": "stdout"
        }
      ]
    },
    {
      "metadata": {
        "id": "VEXXjhvsWiUZ",
        "colab_type": "code",
        "colab": {
          "autoexec": {
            "startup": false,
            "wait_interval": 0
          },
          "output_extras": [
            {
              "item_id": 1
            }
          ],
          "base_uri": "https://localhost:8080/",
          "height": 173
        },
        "outputId": "2529b771-152e-4359-c63c-9a3c9d30c87a",
        "executionInfo": {
          "status": "ok",
          "timestamp": 1514339698177,
          "user_tz": -600,
          "elapsed": 3018,
          "user": {
            "displayName": "Duy Vu Ngo",
            "photoUrl": "//lh4.googleusercontent.com/-Fik-Zyr0TKs/AAAAAAAAAAI/AAAAAAAAAGc/meQpc3nevFQ/s50-c-k-no/photo.jpg",
            "userId": "117300129906629207639"
          }
        }
      },
      "source": [
        "!pip show tensorflow"
      ],
      "cell_type": "code",
      "execution_count": 15,
      "outputs": [
        {
          "output_type": "stream",
          "text": [
            "Name: tensorflow\r\n",
            "Version: 1.2.0\r\n",
            "Summary: TensorFlow helps the tensors flow\r\n",
            "Home-page: http://tensorflow.org/\r\n",
            "Author: Google Inc.\r\n",
            "Author-email: opensource@google.com\r\n",
            "License: Apache 2.0\r\n",
            "Location: /usr/local/lib/python3.6/dist-packages\r\n",
            "Requires: bleach, werkzeug, wheel, html5lib, numpy, protobuf, backports.weakref, six, markdown\r\n"
          ],
          "name": "stdout"
        }
      ]
    },
    {
      "metadata": {
        "id": "3E21elrNW2E0",
        "colab_type": "code",
        "colab": {
          "autoexec": {
            "startup": false,
            "wait_interval": 0
          },
          "output_extras": [
            {
              "item_id": 2
            }
          ],
          "base_uri": "https://localhost:8080/",
          "height": 228
        },
        "outputId": "4be06f31-1d8a-438f-c405-bf6aec8e69a1",
        "executionInfo": {
          "status": "ok",
          "timestamp": 1514339701794,
          "user_tz": -600,
          "elapsed": 2874,
          "user": {
            "displayName": "Duy Vu Ngo",
            "photoUrl": "//lh4.googleusercontent.com/-Fik-Zyr0TKs/AAAAAAAAAAI/AAAAAAAAAGc/meQpc3nevFQ/s50-c-k-no/photo.jpg",
            "userId": "117300129906629207639"
          }
        }
      },
      "source": [
        "!pip install tensorflow==1.2"
      ],
      "cell_type": "code",
      "execution_count": 16,
      "outputs": [
        {
          "output_type": "stream",
          "text": [
            "Requirement already satisfied: tensorflow==1.2 in /usr/local/lib/python3.6/dist-packages\r\n",
            "Requirement already satisfied: wheel>=0.26 in /usr/local/lib/python3.6/dist-packages (from tensorflow==1.2)\r\n",
            "Requirement already satisfied: numpy>=1.11.0 in /usr/local/lib/python3.6/dist-packages (from tensorflow==1.2)\r\n",
            "Requirement already satisfied: html5lib==0.9999999 in /usr/local/lib/python3.6/dist-packages (from tensorflow==1.2)\r\n",
            "Requirement already satisfied: backports.weakref==1.0rc1 in /usr/local/lib/python3.6/dist-packages (from tensorflow==1.2)\r\n",
            "Requirement already satisfied: protobuf>=3.2.0 in /usr/local/lib/python3.6/dist-packages (from tensorflow==1.2)\r\n",
            "Requirement already satisfied: markdown==2.2.0 in /usr/local/lib/python3.6/dist-packages (from tensorflow==1.2)\r\n",
            "Requirement already satisfied: werkzeug>=0.11.10 in /usr/local/lib/python3.6/dist-packages (from tensorflow==1.2)\n",
            "Requirement already satisfied: six>=1.10.0 in /usr/local/lib/python3.6/dist-packages (from tensorflow==1.2)\n",
            "Requirement already satisfied: bleach==1.5.0 in /usr/local/lib/python3.6/dist-packages (from tensorflow==1.2)\n",
            "Requirement already satisfied: setuptools in /usr/local/lib/python3.6/dist-packages (from protobuf>=3.2.0->tensorflow==1.2)\n"
          ],
          "name": "stdout"
        }
      ]
    },
    {
      "metadata": {
        "id": "XgZc5EKlW7dd",
        "colab_type": "code",
        "colab": {
          "autoexec": {
            "startup": false,
            "wait_interval": 0
          }
        }
      },
      "source": [
        "!pip install -q keras"
      ],
      "cell_type": "code",
      "execution_count": 0,
      "outputs": []
    },
    {
      "metadata": {
        "id": "j3im_PmbXKNL",
        "colab_type": "code",
        "colab": {
          "autoexec": {
            "startup": false,
            "wait_interval": 0
          },
          "output_extras": [
            {
              "item_id": 1
            }
          ],
          "base_uri": "https://localhost:8080/",
          "height": 34
        },
        "outputId": "a56e525a-4abb-4dfc-cc09-4b307e100851",
        "executionInfo": {
          "status": "ok",
          "timestamp": 1514339709794,
          "user_tz": -600,
          "elapsed": 813,
          "user": {
            "displayName": "Duy Vu Ngo",
            "photoUrl": "//lh4.googleusercontent.com/-Fik-Zyr0TKs/AAAAAAAAAAI/AAAAAAAAAGc/meQpc3nevFQ/s50-c-k-no/photo.jpg",
            "userId": "117300129906629207639"
          }
        }
      },
      "source": [
        "import keras\n",
        "from keras.models import Sequential\n",
        "from keras.layers import Dense"
      ],
      "cell_type": "code",
      "execution_count": 18,
      "outputs": [
        {
          "output_type": "stream",
          "text": [
            "Using TensorFlow backend.\n"
          ],
          "name": "stderr"
        }
      ]
    },
    {
      "metadata": {
        "id": "_QpgflBwXN2C",
        "colab_type": "code",
        "colab": {
          "autoexec": {
            "startup": false,
            "wait_interval": 0
          },
          "output_extras": [
            {
              "item_id": 5
            },
            {
              "item_id": 10
            },
            {
              "item_id": 15
            },
            {
              "item_id": 20
            },
            {
              "item_id": 22
            },
            {
              "item_id": 23
            }
          ],
          "base_uri": "https://localhost:8080/",
          "height": 3521
        },
        "outputId": "31045ff5-1d09-4c16-91b7-79902fb81a40",
        "executionInfo": {
          "status": "ok",
          "timestamp": 1514339718318,
          "user_tz": -600,
          "elapsed": 7552,
          "user": {
            "displayName": "Duy Vu Ngo",
            "photoUrl": "//lh4.googleusercontent.com/-Fik-Zyr0TKs/AAAAAAAAAAI/AAAAAAAAAGc/meQpc3nevFQ/s50-c-k-no/photo.jpg",
            "userId": "117300129906629207639"
          }
        }
      },
      "source": [
        "# Initialising the ANN\n",
        "classifier = Sequential()\n",
        "\n",
        "# Adding the input layer and the first hidden layer\n",
        "classifier.add(Dense(units = 16, kernel_initializer = 'uniform', activation = 'relu', input_dim = 30))\n",
        "\n",
        "# Adding the second hidden layer\n",
        "classifier.add(Dense(units = 16, kernel_initializer = 'uniform', activation = 'relu'))\n",
        "\n",
        "# Adding the output layer\n",
        "classifier.add(Dense(units = 1, kernel_initializer = 'uniform', activation = 'sigmoid'))\n",
        "\n",
        "# Compiling the ANN\n",
        "classifier.compile(optimizer = 'adam', loss = 'binary_crossentropy', metrics = ['accuracy'])\n",
        "\n",
        "# Fitting the ANN to the Training set\n",
        "classifier.fit(X_train, y_train, batch_size = 10, epochs = 100)"
      ],
      "cell_type": "code",
      "execution_count": 19,
      "outputs": [
        {
          "output_type": "stream",
          "text": [
            "Epoch 1/100\n",
            "455/455 [==============================] - 0s 332us/step - loss: 0.6479 - acc: 0.5890\n",
            "Epoch 2/100\n",
            "455/455 [==============================] - 0s 144us/step - loss: 0.4962 - acc: 0.8857\n",
            "Epoch 3/100\n",
            "455/455 [==============================] - 0s 145us/step - loss: 0.3761 - acc: 0.8681\n",
            "Epoch 4/100\n",
            "455/455 [==============================] - 0s 146us/step - loss: 0.3035 - acc: 0.8923\n",
            "Epoch 5/100\n",
            "455/455 [==============================] - 0s 137us/step - loss: 0.2817 - acc: 0.8967\n",
            "Epoch 6/100\n",
            "455/455 [==============================] - 0s 122us/step - loss: 0.2673 - acc: 0.8901\n",
            "Epoch 7/100\n",
            "455/455 [==============================] - 0s 144us/step - loss: 0.2816 - acc: 0.8967\n",
            "Epoch 8/100\n",
            "455/455 [==============================] - 0s 138us/step - loss: 0.2628 - acc: 0.8923\n",
            "Epoch 9/100\n",
            "455/455 [==============================] - 0s 145us/step - loss: 0.2382 - acc: 0.9011\n",
            "Epoch 10/100\n",
            "455/455 [==============================] - 0s 132us/step - loss: 0.2314 - acc: 0.9143\n",
            "Epoch 11/100\n",
            "455/455 [==============================] - 0s 123us/step - loss: 0.2386 - acc: 0.9055\n",
            "Epoch 12/100\n",
            "455/455 [==============================] - 0s 141us/step - loss: 0.2686 - acc: 0.8945\n",
            "Epoch 13/100\n",
            "455/455 [==============================] - 0s 148us/step - loss: 0.2410 - acc: 0.9077\n",
            "Epoch 14/100\n",
            "455/455 [==============================] - 0s 142us/step - loss: 0.2626 - acc: 0.8989\n",
            "Epoch 15/100\n",
            "455/455 [==============================] - 0s 134us/step - loss: 0.2308 - acc: 0.9143\n",
            "Epoch 16/100\n",
            "455/455 [==============================] - 0s 146us/step - loss: 0.2211 - acc: 0.9033\n",
            "Epoch 17/100\n",
            "455/455 [==============================] - 0s 133us/step - loss: 0.2241 - acc: 0.9165\n",
            "Epoch 18/100\n",
            "455/455 [==============================] - 0s 130us/step - loss: 0.2231 - acc: 0.9165\n",
            "Epoch 19/100\n",
            "455/455 [==============================] - 0s 140us/step - loss: 0.2533 - acc: 0.9033\n",
            "Epoch 20/100\n",
            "455/455 [==============================] - 0s 138us/step - loss: 0.2316 - acc: 0.9077\n",
            "Epoch 21/100\n",
            "455/455 [==============================] - 0s 140us/step - loss: 0.2194 - acc: 0.9077\n",
            "Epoch 22/100\n",
            "455/455 [==============================] - 0s 180us/step - loss: 0.2145 - acc: 0.9165\n",
            "Epoch 23/100\n",
            "455/455 [==============================] - 0s 145us/step - loss: 0.2025 - acc: 0.9231\n",
            "Epoch 24/100\n",
            "430/455 [===========================>..] - ETA: 0s - loss: 0.1980 - acc: 0.9233"
          ],
          "name": "stdout"
        },
        {
          "output_type": "stream",
          "text": [
            "455/455 [==============================] - 0s 137us/step - loss: 0.2079 - acc: 0.9209\n",
            "Epoch 25/100\n",
            "455/455 [==============================] - 0s 136us/step - loss: 0.2156 - acc: 0.9165\n",
            "Epoch 26/100\n",
            "455/455 [==============================] - 0s 135us/step - loss: 0.2095 - acc: 0.9187\n",
            "Epoch 27/100\n",
            "455/455 [==============================] - 0s 157us/step - loss: 0.2193 - acc: 0.9209\n",
            "Epoch 28/100\n",
            "455/455 [==============================] - 0s 139us/step - loss: 0.2220 - acc: 0.9099\n",
            "Epoch 29/100\n",
            "455/455 [==============================] - 0s 127us/step - loss: 0.2060 - acc: 0.9209\n",
            "Epoch 30/100\n",
            "455/455 [==============================] - 0s 151us/step - loss: 0.1893 - acc: 0.9187\n",
            "Epoch 31/100\n",
            "455/455 [==============================] - 0s 140us/step - loss: 0.2120 - acc: 0.9143\n",
            "Epoch 32/100\n",
            "455/455 [==============================] - 0s 124us/step - loss: 0.1985 - acc: 0.9231\n",
            "Epoch 33/100\n",
            "455/455 [==============================] - 0s 153us/step - loss: 0.1910 - acc: 0.9143\n",
            "Epoch 34/100\n",
            "455/455 [==============================] - 0s 140us/step - loss: 0.1957 - acc: 0.9209\n",
            "Epoch 35/100\n",
            "455/455 [==============================] - 0s 134us/step - loss: 0.2298 - acc: 0.8989\n",
            "Epoch 36/100\n",
            "455/455 [==============================] - 0s 144us/step - loss: 0.1914 - acc: 0.9143\n",
            "Epoch 37/100\n",
            "455/455 [==============================] - 0s 139us/step - loss: 0.1872 - acc: 0.9187\n",
            "Epoch 38/100\n",
            "455/455 [==============================] - 0s 148us/step - loss: 0.2290 - acc: 0.8989\n",
            "Epoch 39/100\n",
            "455/455 [==============================] - 0s 148us/step - loss: 0.1987 - acc: 0.9121\n",
            "Epoch 40/100\n",
            "455/455 [==============================] - 0s 130us/step - loss: 0.2031 - acc: 0.9231\n",
            "Epoch 41/100\n",
            "455/455 [==============================] - 0s 136us/step - loss: 0.1936 - acc: 0.9165\n",
            "Epoch 42/100\n",
            "455/455 [==============================] - 0s 121us/step - loss: 0.1944 - acc: 0.9209\n",
            "Epoch 43/100\n",
            "455/455 [==============================] - 0s 149us/step - loss: 0.1775 - acc: 0.9275\n",
            "Epoch 44/100\n",
            "455/455 [==============================] - 0s 133us/step - loss: 0.1981 - acc: 0.9275\n",
            "Epoch 45/100\n",
            "455/455 [==============================] - 0s 156us/step - loss: 0.2193 - acc: 0.9165\n",
            "Epoch 46/100\n",
            "455/455 [==============================] - 0s 133us/step - loss: 0.2044 - acc: 0.9231\n",
            "Epoch 47/100\n"
          ],
          "name": "stdout"
        },
        {
          "output_type": "stream",
          "text": [
            "455/455 [==============================] - 0s 146us/step - loss: 0.1915 - acc: 0.9253\n",
            "Epoch 48/100\n",
            "455/455 [==============================] - 0s 128us/step - loss: 0.2005 - acc: 0.9165\n",
            "Epoch 49/100\n",
            "455/455 [==============================] - 0s 141us/step - loss: 0.2011 - acc: 0.9033\n",
            "Epoch 50/100\n",
            "455/455 [==============================] - 0s 126us/step - loss: 0.2391 - acc: 0.9099\n",
            "Epoch 51/100\n",
            "455/455 [==============================] - 0s 126us/step - loss: 0.2093 - acc: 0.9121\n",
            "Epoch 52/100\n",
            "455/455 [==============================] - 0s 133us/step - loss: 0.1840 - acc: 0.9231\n",
            "Epoch 53/100\n",
            "455/455 [==============================] - 0s 138us/step - loss: 0.1777 - acc: 0.9253\n",
            "Epoch 54/100\n",
            "455/455 [==============================] - 0s 140us/step - loss: 0.1726 - acc: 0.9363\n",
            "Epoch 55/100\n",
            "455/455 [==============================] - 0s 132us/step - loss: 0.1640 - acc: 0.9297\n",
            "Epoch 56/100\n",
            "455/455 [==============================] - 0s 147us/step - loss: 0.1877 - acc: 0.9253\n",
            "Epoch 57/100\n",
            "455/455 [==============================] - 0s 133us/step - loss: 0.1918 - acc: 0.9077\n",
            "Epoch 58/100\n",
            "455/455 [==============================] - 0s 143us/step - loss: 0.1734 - acc: 0.9253\n",
            "Epoch 59/100\n",
            "455/455 [==============================] - 0s 138us/step - loss: 0.1782 - acc: 0.9231\n",
            "Epoch 60/100\n",
            "455/455 [==============================] - 0s 168us/step - loss: 0.1935 - acc: 0.9209\n",
            "Epoch 61/100\n",
            "455/455 [==============================] - 0s 135us/step - loss: 0.1767 - acc: 0.9275\n",
            "Epoch 62/100\n",
            "455/455 [==============================] - 0s 135us/step - loss: 0.1692 - acc: 0.9231\n",
            "Epoch 63/100\n",
            "455/455 [==============================] - 0s 139us/step - loss: 0.1781 - acc: 0.9209\n",
            "Epoch 64/100\n",
            "455/455 [==============================] - 0s 134us/step - loss: 0.1725 - acc: 0.9253\n",
            "Epoch 65/100\n",
            "455/455 [==============================] - 0s 157us/step - loss: 0.1708 - acc: 0.9253\n",
            "Epoch 66/100\n",
            "455/455 [==============================] - 0s 181us/step - loss: 0.1790 - acc: 0.9319\n",
            "Epoch 67/100\n",
            "455/455 [==============================] - 0s 138us/step - loss: 0.1939 - acc: 0.9209\n",
            "Epoch 68/100\n",
            "455/455 [==============================] - 0s 124us/step - loss: 0.1591 - acc: 0.9319\n",
            "Epoch 69/100\n",
            "455/455 [==============================] - 0s 130us/step - loss: 0.1628 - acc: 0.9253\n",
            "Epoch 70/100\n",
            " 10/455 [..............................] - ETA: 0s - loss: 0.1075 - acc: 0.9000"
          ],
          "name": "stdout"
        },
        {
          "output_type": "stream",
          "text": [
            "455/455 [==============================] - 0s 131us/step - loss: 0.1587 - acc: 0.9231\n",
            "Epoch 71/100\n",
            "455/455 [==============================] - 0s 149us/step - loss: 0.1668 - acc: 0.9187\n",
            "Epoch 72/100\n",
            "455/455 [==============================] - 0s 146us/step - loss: 0.1716 - acc: 0.9231\n",
            "Epoch 73/100\n",
            "455/455 [==============================] - 0s 144us/step - loss: 0.2046 - acc: 0.9033\n",
            "Epoch 74/100\n",
            "455/455 [==============================] - 0s 136us/step - loss: 0.1908 - acc: 0.9253\n",
            "Epoch 75/100\n",
            "455/455 [==============================] - 0s 137us/step - loss: 0.1589 - acc: 0.9253\n",
            "Epoch 76/100\n",
            "455/455 [==============================] - 0s 143us/step - loss: 0.1578 - acc: 0.9297\n",
            "Epoch 77/100\n",
            "455/455 [==============================] - 0s 151us/step - loss: 0.1569 - acc: 0.9253\n",
            "Epoch 78/100\n",
            "455/455 [==============================] - 0s 129us/step - loss: 0.1545 - acc: 0.9275\n",
            "Epoch 79/100\n",
            "455/455 [==============================] - 0s 163us/step - loss: 0.1499 - acc: 0.9451\n",
            "Epoch 80/100\n",
            "455/455 [==============================] - 0s 135us/step - loss: 0.1764 - acc: 0.9253\n",
            "Epoch 81/100\n",
            "455/455 [==============================] - 0s 135us/step - loss: 0.1587 - acc: 0.9363\n",
            "Epoch 82/100\n",
            "455/455 [==============================] - 0s 130us/step - loss: 0.1768 - acc: 0.9275\n",
            "Epoch 83/100\n",
            "455/455 [==============================] - 0s 130us/step - loss: 0.1638 - acc: 0.9341\n",
            "Epoch 84/100\n",
            "455/455 [==============================] - 0s 126us/step - loss: 0.1634 - acc: 0.9451\n",
            "Epoch 85/100\n",
            "455/455 [==============================] - 0s 128us/step - loss: 0.1867 - acc: 0.9363\n",
            "Epoch 86/100\n",
            "455/455 [==============================] - 0s 156us/step - loss: 0.1574 - acc: 0.9275\n",
            "Epoch 87/100\n",
            "455/455 [==============================] - 0s 143us/step - loss: 0.1667 - acc: 0.9253\n",
            "Epoch 88/100\n",
            "455/455 [==============================] - 0s 141us/step - loss: 0.1491 - acc: 0.9363\n",
            "Epoch 89/100\n",
            "455/455 [==============================] - 0s 149us/step - loss: 0.1473 - acc: 0.9407\n",
            "Epoch 90/100\n",
            "455/455 [==============================] - 0s 131us/step - loss: 0.1480 - acc: 0.9297\n",
            "Epoch 91/100\n",
            "455/455 [==============================] - 0s 146us/step - loss: 0.1582 - acc: 0.9363\n",
            "Epoch 92/100\n",
            "455/455 [==============================] - 0s 130us/step - loss: 0.1638 - acc: 0.9297\n",
            "Epoch 93/100\n",
            "380/455 [========================>.....] - ETA: 0s - loss: 0.2095 - acc: 0.9132"
          ],
          "name": "stdout"
        },
        {
          "output_type": "stream",
          "text": [
            "455/455 [==============================] - 0s 150us/step - loss: 0.2109 - acc: 0.9187\n",
            "Epoch 94/100\n",
            "455/455 [==============================] - 0s 133us/step - loss: 0.1514 - acc: 0.9341\n",
            "Epoch 95/100\n",
            "455/455 [==============================] - 0s 130us/step - loss: 0.1577 - acc: 0.9363\n",
            "Epoch 96/100\n",
            "455/455 [==============================] - 0s 152us/step - loss: 0.1602 - acc: 0.9253\n",
            "Epoch 97/100\n",
            "455/455 [==============================] - 0s 152us/step - loss: 0.1361 - acc: 0.9363\n",
            "Epoch 98/100\n",
            "455/455 [==============================] - 0s 141us/step - loss: 0.1597 - acc: 0.9297\n",
            "Epoch 99/100\n",
            "455/455 [==============================] - 0s 137us/step - loss: 0.1696 - acc: 0.9275\n",
            "Epoch 100/100\n",
            "455/455 [==============================] - 0s 140us/step - loss: 0.1813 - acc: 0.9143\n"
          ],
          "name": "stdout"
        },
        {
          "output_type": "execute_result",
          "data": {
            "text/plain": [
              "<keras.callbacks.History at 0x7f6a2c52aeb8>"
            ]
          },
          "metadata": {
            "tags": []
          },
          "execution_count": 19
        }
      ]
    },
    {
      "metadata": {
        "id": "6h1O_tACXkys",
        "colab_type": "code",
        "colab": {
          "autoexec": {
            "startup": false,
            "wait_interval": 0
          }
        }
      },
      "source": [
        "# Predicting the Test set results\n",
        "y_pred = classifier.predict(X_test)\n",
        "y_pred = (y_pred > 0.5)\n",
        "\n",
        "# Making the Confusion Matrix\n",
        "from sklearn.metrics import confusion_matrix\n",
        "cm = confusion_matrix(y_test, y_pred) "
      ],
      "cell_type": "code",
      "execution_count": 0,
      "outputs": []
    },
    {
      "metadata": {
        "id": "GPxBrBEAX0jV",
        "colab_type": "code",
        "colab": {
          "autoexec": {
            "startup": false,
            "wait_interval": 0
          },
          "output_extras": [
            {
              "item_id": 1
            }
          ],
          "base_uri": "https://localhost:8080/",
          "height": 52
        },
        "outputId": "11d1d356-a214-486c-cea8-22716ab7b6c8",
        "executionInfo": {
          "status": "ok",
          "timestamp": 1514339724578,
          "user_tz": -600,
          "elapsed": 1034,
          "user": {
            "displayName": "Duy Vu Ngo",
            "photoUrl": "//lh4.googleusercontent.com/-Fik-Zyr0TKs/AAAAAAAAAAI/AAAAAAAAAGc/meQpc3nevFQ/s50-c-k-no/photo.jpg",
            "userId": "117300129906629207639"
          }
        }
      },
      "source": [
        "cm"
      ],
      "cell_type": "code",
      "execution_count": 21,
      "outputs": [
        {
          "output_type": "execute_result",
          "data": {
            "text/plain": [
              "array([[71,  0],\n",
              "       [ 5, 38]])"
            ]
          },
          "metadata": {
            "tags": []
          },
          "execution_count": 21
        }
      ]
    },
    {
      "metadata": {
        "id": "5A8wgJW8X5fZ",
        "colab_type": "code",
        "colab": {
          "autoexec": {
            "startup": false,
            "wait_interval": 0
          }
        }
      },
      "source": [
        ""
      ],
      "cell_type": "code",
      "execution_count": 0,
      "outputs": []
    }
  ]
}